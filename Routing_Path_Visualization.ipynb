{
 "cells": [
  {
   "cell_type": "markdown",
   "metadata": {},
   "source": [
    "Code from https://github.com/ageron/handson-ml/blob/master/extra_capsnets.ipynb by Aurélien Geron was used as a guide."
   ]
  },
  {
   "cell_type": "markdown",
   "metadata": {},
   "source": [
    "## 1. Dependencies"
   ]
  },
  {
   "cell_type": "code",
   "execution_count": 1,
   "metadata": {},
   "outputs": [],
   "source": [
    "%matplotlib inline\n",
    "import matplotlib.pyplot as plt # Plotting library\n",
    "import numpy as np # Algebra library\n",
    "import tensorflow as tf # Tensorflow\n",
    "import os # Folder management library\n",
    "import random # Pseudo random number generator\n",
    "from sklearn.model_selection import train_test_split # To split data into train, test, validation\n",
    "import pickle # Serializing module.\n",
    "from tensorflow.examples.tutorials.mnist import input_data"
   ]
  },
  {
   "cell_type": "markdown",
   "metadata": {},
   "source": [
    "### Available CPUs and GPUs on Machine\n",
    "Just shows what devices are available."
   ]
  },
  {
   "cell_type": "code",
   "execution_count": null,
   "metadata": {},
   "outputs": [],
   "source": [
    "from tensorflow.python.client import device_lib\n",
    "print(device_lib.list_local_devices())"
   ]
  },
  {
   "cell_type": "markdown",
   "metadata": {},
   "source": [
    "### Reset Graph\n",
    "Reset Tensorflow state."
   ]
  },
  {
   "cell_type": "code",
   "execution_count": 3,
   "metadata": {},
   "outputs": [],
   "source": [
    "tf.reset_default_graph()"
   ]
  },
  {
   "cell_type": "markdown",
   "metadata": {},
   "source": [
    "### Set Seed for Reproducibility (Optional)"
   ]
  },
  {
   "cell_type": "code",
   "execution_count": 4,
   "metadata": {},
   "outputs": [],
   "source": [
    "np.random.seed(42)\n",
    "tf.set_random_seed(42)"
   ]
  },
  {
   "cell_type": "markdown",
   "metadata": {},
   "source": [
    "## 2. Load Data for Training, Validation, and Testing \n",
    "Run this cell if you will be training the architecture."
   ]
  },
  {
   "cell_type": "code",
   "execution_count": null,
   "metadata": {},
   "outputs": [],
   "source": [
    "mnist = input_data.read_data_sets(\"../MNIST/\")"
   ]
  },
  {
   "cell_type": "markdown",
   "metadata": {},
   "source": [
    "### Visualize Data"
   ]
  },
  {
   "cell_type": "code",
   "execution_count": 6,
   "metadata": {},
   "outputs": [
    {
     "data": {
      "image/png": "[encoded data removed]",
      "text/plain": [
       "<Figure size 720x216 with 5 Axes>"
      ]
     },
     "metadata": {
      "needs_background": "light"
     },
     "output_type": "display_data"
    },
    {
     "name": "stdout",
     "output_type": "stream",
     "text": [
      "Labels: [7 3 4 6 1]\n"
     ]
    }
   ],
   "source": [
    "n_samples = 5\n",
    "\n",
    "plt.figure(figsize=(n_samples * 2, 3))\n",
    "for index in range(n_samples):\n",
    "    plt.subplot(1, n_samples, index + 1)\n",
    "    sample_image = mnist.train.images[index].reshape(28, 28)\n",
    "    plt.imshow(sample_image, cmap=\"binary\")\n",
    "    plt.axis(\"off\")\n",
    "plt.show()\n",
    "\n",
    "# Print labels\n",
    "print('Labels:', mnist.train.labels[0:n_samples])"
   ]
  },
  {
   "cell_type": "markdown",
   "metadata": {},
   "source": [
    "## 3. Define Model Architecture"
   ]
  },
  {
   "cell_type": "markdown",
   "metadata": {},
   "source": [
    "### Functions"
   ]
  },
  {
   "cell_type": "code",
   "execution_count": 7,
   "metadata": {},
   "outputs": [],
   "source": [
    "def predictions(caps_Lminus1, dims_Lminus1, output_Lminus1, \n",
    "                caps_L, dims_L, batch_size, weight_sharing=False, grid_cells_Lminus1=1, name=None):\n",
    "    \n",
    "    with tf.name_scope(name, default_name=\"predictions\"):\n",
    "        if weight_sharing == False:\n",
    "            output_Lminus1 = tf.squeeze(output_Lminus1, axis=[1, 4], name=\"output_Lminus1\")\n",
    "\n",
    "        # Initialize first array to random normal\n",
    "        init_sigma = 0.1\n",
    "        W_init = tf.random_normal(shape=(1, caps_Lminus1, caps_L, dims_L, dims_Lminus1),\n",
    "                                  stddev=init_sigma, dtype=tf.float32, name=\"W_init\")\n",
    "        W = tf.Variable(W_init, name=\"W\")\n",
    "        tf.summary.histogram(\"W\", W)\n",
    "        \n",
    "        # Tile W for the batch\n",
    "        W_tiled = tf.tile(W, [batch_size, grid_cells_Lminus1, 1, 1, 1], name=\"W_tiled\") \n",
    "        # the 1 in the shape argument in tf.tile means keep dimension from W.\n",
    "\n",
    "\n",
    "        # -1 means add another dimension to the end of tensor\n",
    "        output_expanded_Lminus1 = tf.expand_dims(output_Lminus1, -1, name=\"output_expanded_Lminus1\")\n",
    "        # 2 means add another dimension to the 2th position of tensor\n",
    "        output_tile_Lminus1 = tf.expand_dims(output_expanded_Lminus1, 2, name=\"output_tile_Lminus1\")\n",
    "        # 1 in shape argument means keep dimensions from caps1_output_tile\n",
    "        output_tiled_Lminus1 = tf.tile(output_tile_Lminus1, [1, 1, caps_L, 1, 1], name=\"output_tiled_Lminus1\")\n",
    "        # Get prediction tensor (3rd array) by using t.matmul\n",
    "        predicted_L = tf.matmul(W_tiled, output_tiled_Lminus1, name=\"predicted_L\")\n",
    "    \n",
    "        return predicted_L\n",
    "\n",
    "    \n",
    "def routing(caps_Lminus1, caps_L, batch_size, iterations, predicted_L, name=None):\n",
    "    \n",
    "    with tf.name_scope(name, default_name=\"routing\"):\n",
    "        # initialize the raw routing weights to zero\n",
    "        # The two extra 1s is so that raw_weights and weighted_predictions have the same size\n",
    "        raw_weights = tf.zeros([batch_size, caps_Lminus1, caps_L, 1, 1], dtype=np.float32, name=\"raw_weights\")\n",
    "\n",
    "        for r in range(0, iterations):\n",
    "\n",
    "            # c_i = softmax(b_i)\n",
    "            routing_weights = tf.nn.softmax(raw_weights, dim=2, name=\"routing_weights\")\n",
    "            # weighted sum of all the predicted output vectors for each second-layer capsule\n",
    "            weighted_predictions = tf.multiply(routing_weights, predicted_L, name=\"weighted_predictions\")\n",
    "            weighted_sum = tf.reduce_sum(weighted_predictions, axis=(1), keepdims=True, name=\"weighted_sum\")\n",
    "\n",
    "            # Squash weighted_sum (s_j) to get output for 2nd capsules (v_j)\n",
    "            output_L = squash(weighted_sum, axis=-2, name=\"output_L\")\n",
    "\n",
    "            # Make caps2_output same size as predicted_caps\n",
    "            output_tiled_L = tf.tile(output_L, \n",
    "                                         [1, caps_Lminus1, 1, 1, 1], \n",
    "                                         name=\"output_tiled_L\")\n",
    "            # the 1 in the shape argument in tf.tile means keep dimension from caps2_output.\n",
    "\n",
    "            # Dot Product\n",
    "            agreement = tf.matmul(predicted_L, output_tiled_L, transpose_a=True, name=\"agreement\")\n",
    "            # Update raw_weights\n",
    "            raw_weights = tf.add(raw_weights, agreement, name=\"raw_weights\")\n",
    "\n",
    "        return output_L, routing_weights\n",
    "        \n",
    "# safe_norm taken from Aurélien Geron\n",
    "def squash(s, axis=-1, epsilon=1e-7, name=None):\n",
    "    \n",
    "    with tf.name_scope(name, default_name=\"squash\"):\n",
    "        squared_norm = tf.reduce_sum(tf.square(s), axis=axis,\n",
    "                                     keepdims=True)\n",
    "        safe_norm = tf.sqrt(squared_norm + epsilon)\n",
    "        squash_factor = squared_norm / (1. + squared_norm)\n",
    "        unit_vector = s / safe_norm\n",
    "        return squash_factor * unit_vector\n",
    "    \n",
    "    \n",
    "# safe_norm taken from Aurélien Geron\n",
    "def safe_norm(s, axis=-1, epsilon=1e-7, keep_dims=False, name=None):\n",
    "    \n",
    "    with tf.name_scope(name, default_name=\"safe_norm\"):\n",
    "        squared_norm = tf.reduce_sum(tf.square(s), axis=axis,\n",
    "                                     keep_dims=keep_dims)\n",
    "        return tf.sqrt(squared_norm + epsilon)"
   ]
  },
  {
   "cell_type": "markdown",
   "metadata": {},
   "source": [
    "### Input "
   ]
  },
  {
   "cell_type": "code",
   "execution_count": 8,
   "metadata": {},
   "outputs": [],
   "source": [
    "# Placeholder for the input images (batch size, length, width, greyscale).\n",
    "# Batch size, length, and width are set to None as they can vary. \n",
    "X = tf.placeholder(shape=[None, None, None, 1], dtype=tf.float32, name=\"X\")\n",
    "tf.summary.image('X', X)\n",
    "y = tf.placeholder(shape=[None], dtype=tf.int64, name=\"y\")"
   ]
  },
  {
   "cell_type": "markdown",
   "metadata": {},
   "source": [
    "### Convolutional Layer\n",
    "Used to get feature map."
   ]
  },
  {
   "cell_type": "code",
   "execution_count": null,
   "metadata": {},
   "outputs": [],
   "source": [
    "# Hyper-parameters\n",
    "conv1_params = {\n",
    "    \"filters\": 256,\n",
    "    \"kernel_size\": 3,\n",
    "    \"strides\": 1,\n",
    "    \"padding\": \"valid\",\n",
    "    \"activation\": tf.nn.relu,\n",
    "}\n",
    "# Convolve image with conv1 filters\n",
    "conv1 = tf.layers.conv2d(X, name=\"conv1\", **conv1_params)\n",
    "tf.summary.histogram(\"conv1\", conv1)"
   ]
  },
  {
   "cell_type": "markdown",
   "metadata": {},
   "source": [
    "### ConvCaps Layer\n",
    "Also known as primary capsule layer."
   ]
  },
  {
   "cell_type": "code",
   "execution_count": 10,
   "metadata": {},
   "outputs": [],
   "source": [
    "# No. of dimenions a single capsule contains.\n",
    "convcaps_dims = 8 \n",
    "# No. of capsules per grid cell.\n",
    "convcaps_caps_types = 32 \n",
    "\n",
    "convcaps_params = {\n",
    "    \"filters\": convcaps_caps_types * convcaps_dims,\n",
    "    \"kernel_size\": 3,\n",
    "    \"strides\": 1,\n",
    "    \"padding\": \"valid\",\n",
    "    \"activation\": tf.nn.relu \n",
    "}\n",
    "# Convolve conv1 with filters.\n",
    "convcaps = tf.layers.conv2d(conv1, name=\"convcaps\", **convcaps_params)\n",
    "tf.summary.histogram(\"convcaps\", convcaps)\n",
    "\n",
    "# Length and width of convaps layer.\n",
    "convcaps_grid_length = tf.shape(convcaps)[1]   \n",
    "convcaps_grid_width = tf.shape(convcaps)[2] \n",
    "convcaps_grid_cells = convcaps_grid_length * convcaps_grid_width\n",
    "# Total No. capsules in convcaps layer.\n",
    "convcaps_caps = convcaps_caps_types * convcaps_grid_cells\n",
    "\n",
    "# Reshape convcaps so that it is easier to work with.\n",
    "convcaps_reshape = tf.reshape(convcaps, [-1, convcaps_caps, convcaps_dims], name=\"convcaps_reshape\")\n",
    "# Squash convcaps with squashing function.\n",
    "convcaps_output = squash(convcaps_reshape, name=\"convcaps_output\")"
   ]
  },
  {
   "cell_type": "markdown",
   "metadata": {},
   "source": [
    "### First Capsule Layer\n",
    "The first capsule layer that is generated by the routing algorithm."
   ]
  },
  {
   "cell_type": "code",
   "execution_count": null,
   "metadata": {},
   "outputs": [],
   "source": [
    "# The batch size\n",
    "batch_size = tf.shape(X)[0]\n",
    "\n",
    "caps1_caps = 10\n",
    "caps1_dims = 16\n",
    "\n",
    "caps1_predictions = predictions(convcaps_caps_types, convcaps_dims, convcaps_output, \n",
    "                                caps1_caps, caps1_dims, batch_size, True, convcaps_grid_cells, \"caps1_predictions\")\n",
    "\n",
    "caps1_output, routing1 = routing(convcaps_caps, caps1_caps, \n",
    "                                  batch_size, 9, caps1_predictions, \"routing1\")"
   ]
  },
  {
   "cell_type": "markdown",
   "metadata": {},
   "source": [
    "### Calculate Accuracy\n",
    "Accuracy given by $$ \\frac{\\text{True Positives} + \\text{True Negatives}}{\\text{Total Dataset Size}}$$"
   ]
  },
  {
   "cell_type": "code",
   "execution_count": null,
   "metadata": {},
   "outputs": [],
   "source": [
    "with tf.name_scope(name=\"accuracy_cell\"):\n",
    "    \n",
    "    lengths_temp = safe_norm(caps1_output, axis=-2, name=\"lengths_temp\")\n",
    "    lengths = tf.reshape(lengths_temp, shape=(-1, 10),name=\"lengths\")\n",
    "    lengths_argmax = tf.argmax(lengths, axis=1, name=\"lengths_argmax\")\n",
    "    y_predictions = lengths_argmax\n",
    "    correct = tf.equal(y, y_predictions, name=\"correct\")\n",
    "    accuracy = tf.reduce_mean(tf.cast(correct, tf.float32), name=\"accuracy\")\n",
    "    tf.summary.scalar('accuracy', accuracy)"
   ]
  },
  {
   "cell_type": "markdown",
   "metadata": {},
   "source": [
    "### Calculate Loss"
   ]
  },
  {
   "cell_type": "code",
   "execution_count": 13,
   "metadata": {},
   "outputs": [],
   "source": [
    "m_plus = 0.9\n",
    "m_minus = 0.1\n",
    "lambda_ = 0.5\n",
    "\n",
    "\n",
    "with tf.name_scope(name=\"loss_cell\"):\n",
    "\n",
    "    T = tf.one_hot(y, depth=caps1_caps, name=\"T\")\n",
    "    # Compute norm of each capsule in digitcaps\n",
    "    caps1_output_norm = safe_norm(caps1_output, axis=-2, keep_dims=True, name=\"caps1_output_norm\")\n",
    "    \n",
    "    present_error_raw = tf.square(tf.maximum(0., m_plus - caps1_output_norm), name=\"present_error_raw\")\n",
    "    present_error = tf.reshape(present_error_raw, shape=(-1, caps1_caps), name=\"present_error\")\n",
    "    # -1 tells reshape to calculate the size of this dimension. \n",
    "\n",
    "    absent_error_raw = tf.square(tf.maximum(0., caps1_output_norm - m_minus), name=\"absent_error_raw\")\n",
    "    absent_error = tf.reshape(absent_error_raw, shape=(-1, caps1_caps), name=\"absent_error\")\n",
    "    # -1 tells reshape to calculate the size of this dimension. \n",
    "\n",
    "    # Compute Margin Loss\n",
    "    L = tf.add(T * present_error, lambda_ * (1.0 - T) * absent_error, name=\"L\")\n",
    "    loss = tf.reduce_mean(tf.reduce_sum(L, axis=1), name=\"loss\")\n",
    "    tf.summary.scalar('loss', loss)"
   ]
  },
  {
   "cell_type": "markdown",
   "metadata": {},
   "source": [
    "### Adam Optimizer\n",
    "Initialize adam optimizer to minimize $\\texttt{loss}$."
   ]
  },
  {
   "cell_type": "code",
   "execution_count": 14,
   "metadata": {},
   "outputs": [],
   "source": [
    "with tf.name_scope(name=\"train\"):\n",
    "    learning_rate = tf.placeholder(tf.float32, shape=[])\n",
    "    tf.summary.scalar('learning_rate', learning_rate)\n",
    "    optimizer = tf.train.AdamOptimizer(learning_rate=learning_rate)\n",
    "    training_op = optimizer.minimize(loss, name=\"training_op\")\n",
    "    \n",
    "merged_summary = tf.summary.merge_all()\n",
    "init = tf.global_variables_initializer()\n",
    "saver = tf.train.Saver()"
   ]
  },
  {
   "cell_type": "markdown",
   "metadata": {},
   "source": [
    "## 4. Train the Architecture\n",
    "Run the below cell if you would like to train the architecture."
   ]
  },
  {
   "cell_type": "markdown",
   "metadata": {},
   "source": [
    "### Load Learning Rate and Other Parameters"
   ]
  },
  {
   "cell_type": "code",
   "execution_count": 15,
   "metadata": {},
   "outputs": [
    {
     "name": "stdout",
     "output_type": "stream",
     "text": [
      "time step:  5700\n",
      "learning rate:  0.001\n"
     ]
    }
   ],
   "source": [
    "# Initial Learning Rate.\n",
    "learning_r = 0.001\n",
    "# Batch size for training.\n",
    "batch_size = 5\n",
    "\n",
    "# Save model and tensorboard data to this folder\n",
    "folder = \"NEW_MNIST\"+str(batch_size)+\"_lr\"+str(learning_r)\n",
    "\n",
    "# Load time step for Tensorboard.\n",
    "if os.path.isfile('./tensorboard/Models/'+folder+'/time_step.pickle'):\n",
    "    time_step_unpickle = open('./tensorboard/Models/'+folder+'/time_step.pickle', 'rb')\n",
    "    time_step = pickle.load(time_step_unpickle)\n",
    "else:\n",
    "    time_step = 0\n",
    "    \n",
    "# Load learning rate    \n",
    "if os.path.isfile('./tensorboard/Models/'+folder+'/learning_r.pickle'):\n",
    "    learning_r_unpickle = open('./tensorboard/Models/'+folder+'/learning_r.pickle', 'rb')\n",
    "    learning_r = pickle.load(learning_r_unpickle)\n",
    "            \n",
    "print('time step: ', time_step)\n",
    "print('learning rate: ', learning_r)"
   ]
  },
  {
   "cell_type": "markdown",
   "metadata": {},
   "source": [
    "### Training\n",
    "Training code taken from Aurélien Géron."
   ]
  },
  {
   "cell_type": "code",
   "execution_count": null,
   "metadata": {},
   "outputs": [],
   "source": [
    "n_epochs = 10000\n",
    "restore_checkpoint = True\n",
    "\n",
    "n_iterations_per_epoch = len(mnist.train.images) // batch_size\n",
    "n_iterations_validation = len(mnist.validation.images) // batch_size\n",
    "best_loss_val = np.infty\n",
    "\n",
    "if not os.path.exists(\"./tensorboard/Models/\"+folder):\n",
    "    os.makedirs(\"./tensorboard/Models/\"+folder)\n",
    "checkpoint_path = \"./tensorboard/Models/\"+folder+\"/my_capsule_network\"\n",
    "\n",
    "\n",
    "with tf.Session() as sess:\n",
    "    if restore_checkpoint and tf.train.checkpoint_exists(checkpoint_path):\n",
    "        saver.restore(sess, checkpoint_path)\n",
    "    else:\n",
    "        init.run()\n",
    "    writer = tf.summary.FileWriter(\"./tensorboard/\"+folder)\n",
    "    writer.add_graph(sess.graph, global_step=time_step)\n",
    "\n",
    "    lr_count = 0\n",
    "    for epoch in range(n_epochs):\n",
    "        for iteration in range(1, n_iterations_per_epoch + 1)[:300]:\n",
    "            X_batch = mnist.train.images[(batch_size*(iteration-1)):(batch_size*iteration)]\n",
    "            y_batch = mnist.train.labels[(batch_size*(iteration-1)):(batch_size*iteration)]\n",
    "            \n",
    "            # Every 5 iterations display loss\n",
    "            if time_step % 5 == 0:\n",
    "                loss_, merged_summary_, y_predictions_, y_ = sess.run(\n",
    "                    [loss, merged_summary, y_predictions, y],\n",
    "                    feed_dict={X: X_batch.reshape([-1, 28, 28, 1]),\n",
    "                               y: y_batch, \n",
    "                               learning_rate: learning_r})\n",
    "                writer.add_summary(merged_summary_, time_step)\n",
    "                print(\"\\rIteration: {}/{} ({:.1f}%)  Loss: {:.6f}  Prediction: {}  y: {}\".format(\n",
    "                    iteration, n_iterations_per_epoch, iteration * 100 / n_iterations_per_epoch,\n",
    "                    loss_, y_predictions_, y_), end=\"\")\n",
    "            \n",
    "            # Train Model\n",
    "            _ = sess.run([training_op], feed_dict={X: X_batch.reshape([-1, 28, 28, 1]),\n",
    "                                                   y: y_batch, \n",
    "                                                   learning_rate: learning_r})\n",
    "            \n",
    "            time_step = time_step + 1\n",
    "            \n",
    "            \n",
    "            \n",
    "         # At the end of each epoch,\n",
    "        # measure the validation loss and accuracy:\n",
    "        loss_vals = []\n",
    "        acc_vals = []\n",
    "        for iteration in range(1, n_iterations_validation + 1):\n",
    "            X_batch = mnist.validation.images[(batch_size*(iteration-1)):(batch_size*iteration)]\n",
    "            y_batch = mnist.validation.labels[(batch_size*(iteration-1)):(batch_size*iteration)]\n",
    "            loss_val, acc_val = sess.run(\n",
    "                    [loss, accuracy],\n",
    "                    feed_dict={X: X_batch.reshape([-1, 28, 28, 1]),\n",
    "                               y: y_batch})\n",
    "            loss_vals.append(loss_val)\n",
    "            acc_vals.append(acc_val)\n",
    "            print(\"\\rEvaluating the model: {}/{} ({:.1f}%)\".format(\n",
    "                      iteration, n_iterations_validation,\n",
    "                      iteration * 100 / n_iterations_validation),\n",
    "                  end=\" \" * 10)\n",
    "        loss_val = np.mean(loss_vals)\n",
    "        acc_val = np.mean(acc_vals)\n",
    "        print(\"\\rEpoch: {}  Val accuracy: {:.4f}%  Loss: {:.6f}{}\".format(\n",
    "            epoch + 1, acc_val * 100, loss_val,\n",
    "            \" (improved)\" if loss_val < best_loss_val else \"\"))\n",
    "        \n",
    "        # And save the model if it improved:\n",
    "        if loss_val < best_loss_val:\n",
    "            save_path = saver.save(sess, checkpoint_path)\n",
    "            best_loss_val = loss_val\n",
    "        else:\n",
    "            lr_count = lr_count + 1\n",
    "            \n",
    "            if lr_count == 3:\n",
    "                learning_r = learning_r/10\n",
    "                lr_count = 0\n",
    "                print(learning_r)\n",
    "            \n",
    "                with open('./tensorboard/Models/'+folder+'/learning_r.pickle', 'wb') as f:\n",
    "                    pickle.dump(learning_r, f, protocol=pickle.HIGHEST_PROTOCOL)\n",
    "                    \n",
    "                if restore_checkpoint and tf.train.checkpoint_exists(checkpoint_path):\n",
    "                    saver.restore(sess, checkpoint_path)\n",
    "        \n",
    "        with open('./tensorboard/Models/'+folder+'/time_step.pickle', 'wb') as f:\n",
    "            pickle.dump(time_step, f, protocol=pickle.HIGHEST_PROTOCOL)"
   ]
  },
  {
   "cell_type": "markdown",
   "metadata": {},
   "source": [
    "### Evaluate on Test Set"
   ]
  },
  {
   "cell_type": "code",
   "execution_count": 17,
   "metadata": {},
   "outputs": [
    {
     "name": "stdout",
     "output_type": "stream",
     "text": [
      "INFO:tensorflow:Restoring parameters from ./tensorboard/Models/NEW_MNIST5_lr0.001/my_capsule_network\n",
      "Final test accuracy: 88.6200%  Loss: 0.123631     \n"
     ]
    }
   ],
   "source": [
    "n_iterations_test = len(mnist.test.images) // batch_size\n",
    "\n",
    "with tf.Session() as sess:\n",
    "    saver.restore(sess, checkpoint_path)\n",
    "\n",
    "    loss_tests = []\n",
    "    acc_tests = []\n",
    "    for iteration in range(1, n_iterations_test + 1):\n",
    "        X_batch, y_batch = mnist.test.images[(batch_size*(iteration-1)):(batch_size*iteration)], mnist.test.labels[(batch_size*(iteration-1)):(batch_size*iteration)]\n",
    "        loss_test, acc_test = sess.run(\n",
    "                [loss, accuracy],\n",
    "                feed_dict={X: X_batch.reshape([-1, 28, 28, 1]),\n",
    "                           y: y_batch})\n",
    "        loss_tests.append(loss_test)\n",
    "        acc_tests.append(acc_test)\n",
    "        print(\"\\rEvaluating the model: {}/{} ({:.1f}%)\".format(\n",
    "                  iteration, n_iterations_test,\n",
    "                  iteration * 100 / n_iterations_test),\n",
    "              end=\" \" * 10)\n",
    "    loss_test = np.mean(loss_tests)\n",
    "    acc_test = np.mean(acc_tests)\n",
    "    print(\"\\rFinal test accuracy: {:.4f}%  Loss: {:.6f}\".format(\n",
    "        acc_test * 100, loss_test))"
   ]
  },
  {
   "cell_type": "markdown",
   "metadata": {},
   "source": [
    "### Total Number of Trainable Weights in Model"
   ]
  },
  {
   "cell_type": "code",
   "execution_count": 18,
   "metadata": {},
   "outputs": [
    {
     "data": {
      "text/plain": [
       "633600"
      ]
     },
     "execution_count": 18,
     "metadata": {},
     "output_type": "execute_result"
    }
   ],
   "source": [
    "np.sum([np.prod(v.get_shape().as_list()) for v in tf.trainable_variables()])"
   ]
  },
  {
   "cell_type": "markdown",
   "metadata": {},
   "source": [
    "## 5. Routing Path Visualization\n",
    "Visualize regions of input image that influence final prediction. Also can visualize the regions of input image that are routed to particular capsules."
   ]
  },
  {
   "cell_type": "markdown",
   "metadata": {},
   "source": [
    "### Functions "
   ]
  },
  {
   "cell_type": "code",
   "execution_count": 19,
   "metadata": {},
   "outputs": [],
   "source": [
    "def visualize_convcaps(caps_and_routing, caps_and_routing_dims, reduce):\n",
    "\n",
    "    temp_dims = caps_and_routing_dims[0:3] + [1]*(len(caps_and_routing_dims)-3)\n",
    "    convcaps_lengths = tf.reshape(safe_norm(caps_and_routing[0], axis=-1), temp_dims)\n",
    "    temp_dims = [1]*(3) + caps_and_routing_dims[3:len(caps_and_routing_dims)]\n",
    "    convcaps_lengths_tiled = tf.tile(convcaps_lengths, temp_dims)\n",
    "\n",
    "    temp_dims = caps_and_routing_dims[0:4] + [1]*(len(caps_and_routing_dims)-4)\n",
    "    routing1_reshape = tf.reshape(caps_and_routing[1], temp_dims)\n",
    "    temp_dims = [1]*(4) + caps_and_routing_dims[4:len(caps_and_routing_dims)]\n",
    "    routing1_reshape_tiled = tf.tile(routing1_reshape, temp_dims)\n",
    "\n",
    "    temp_dims = [1, 1, 1, caps_and_routing_dims[3]] + [1]*(len(caps_and_routing_dims)-4)\n",
    "    caps1_lengths = tf.reshape(safe_norm(caps_and_routing[2], axis=-2),  temp_dims)\n",
    "    temp_dims = caps_and_routing_dims[0:3] + [1] + caps_and_routing_dims[4:len(caps_and_routing_dims)]\n",
    "    caps1_lengths_tiled = tf.tile(caps1_lengths, temp_dims)\n",
    "    \n",
    "    temp1 = tf.square(tf.multiply(routing1_reshape_tiled, caps1_lengths_tiled))\n",
    "\n",
    "    temp_matrices = []\n",
    "    index = 0\n",
    "    for i in range(4, len(caps_and_routing_dims)):\n",
    "\n",
    "        temp_dims = [1]*(i-1) + caps_and_routing_dims[i-1:i+1] + [1]*(len(caps_and_routing_dims)-i-1)\n",
    "        routing_reshape = tf.reshape(caps_and_routing[3+index], temp_dims)\n",
    "        temp_dims = caps_and_routing_dims[0:i-1] + [1]*(2) + caps_and_routing_dims[i+1:len(caps_and_routing_dims)]\n",
    "        routing_reshape_tiled = tf.tile(routing_reshape, temp_dims)\n",
    "\n",
    "        temp_dims = [1]*len(caps_and_routing_dims)\n",
    "        temp_dims[i] = caps_and_routing_dims[i]\n",
    "        caps_lengths = tf.reshape(safe_norm(caps_and_routing[3+index+1], axis=-2), temp_dims)\n",
    "        temp_dims = caps_and_routing_dims.copy()\n",
    "        temp_dims[i] = 1\n",
    "        caps_lengths_tiled = tf.tile(caps_lengths, temp_dims)\n",
    "\n",
    "        temp = tf.square(tf.multiply(routing_reshape_tiled, caps_lengths_tiled))\n",
    "        temp_matrices.append(temp)\n",
    "\n",
    "        index = index + 2\n",
    "        \n",
    "    all_paths = tf.multiply(convcaps_lengths_tiled, temp1)\n",
    "    for temp_matrice in temp_matrices:\n",
    "        all_paths = tf.multiply(all_paths, temp_matrice)\n",
    "\n",
    "\n",
    "    normalizing_factor = np.prod(caps_and_routing_dims[2:len(caps_and_routing_dims)])\n",
    "    all_paths_average = tf.reduce_sum(all_paths, axis=reduce)/normalizing_factor\n",
    "            \n",
    "    return all_paths_average"
   ]
  },
  {
   "cell_type": "markdown",
   "metadata": {},
   "source": [
    "### Routing Path Visualization"
   ]
  },
  {
   "cell_type": "code",
   "execution_count": 20,
   "metadata": {
    "scrolled": false
   },
   "outputs": [
    {
     "name": "stdout",
     "output_type": "stream",
     "text": [
      "INFO:tensorflow:Restoring parameters from ./tensorboard/Models/NEW_MNIST5_lr0.001/my_capsule_network\n"
     ]
    },
    {
     "data": {
      "image/png": "[encoded data removed]",
      "text/plain": [
       "<Figure size 1440x720 with 55 Axes>"
      ]
     },
     "metadata": {
      "needs_background": "light"
     },
     "output_type": "display_data"
    }
   ],
   "source": [
    "batch_size=1\n",
    "n_iterations_test = len(mnist.test.labels) // batch_size\n",
    "checkpoint_path = \"./tensorboard/Models/\"+folder+\"/my_capsule_network\"\n",
    "\n",
    "caps_and_routing = [convcaps_output, routing1, caps1_output]\n",
    "caps_and_routing_dims = [24, 24, 32, 10]\n",
    "reduce = [2]\n",
    "\n",
    "\n",
    "with tf.Session() as sess:\n",
    "    saver.restore(sess, checkpoint_path)\n",
    "    i = 1\n",
    "    columns, rows = 11, 5\n",
    "    fig=plt.figure(figsize=(20, 10))\n",
    "    for iteration in range(1, n_iterations_test + 1)[:rows]:\n",
    "        X_batch = mnist.test.images[(batch_size*(iteration-1)):(batch_size*iteration)]\n",
    "        y_batch = mnist.test.labels[(batch_size*(iteration-1)):(batch_size*iteration)]\n",
    "        [rpv_raw] = sess.run([visualize_convcaps(caps_and_routing, caps_and_routing_dims, reduce)], \n",
    "                             feed_dict={X: X_batch.reshape([-1, 28, 28, 1]),\n",
    "                                        y: y_batch}) \n",
    " \n",
    "\n",
    "        fig.add_subplot(rows, columns, i)\n",
    "        plt.imshow(X_batch[0].reshape(28,28), cmap='gray')\n",
    "        plt.axis(\"off\")\n",
    "\n",
    "\n",
    "        for n in range(1, 11):\n",
    "            rpv = rpv_raw[:,:,n-1]\n",
    "            fig.add_subplot(rows, columns, i+n)\n",
    "            plt.imshow(rpv, vmin=0, vmax=0.000015)\n",
    "            plt.axis(\"off\")\n",
    "        i = i+11\n",
    "    plt.show()"
   ]
  }
 ],
 "metadata": {
  "kernelspec": {
   "display_name": "Python 3",
   "language": "python",
   "name": "python3"
  },
  "language_info": {
   "codemirror_mode": {
    "name": "ipython",
    "version": 3
   },
   "file_extension": ".py",
   "mimetype": "text/x-python",
   "name": "python",
   "nbconvert_exporter": "python",
   "pygments_lexer": "ipython3",
   "version": "3.6.3"
  }
 },
 "nbformat": 4,
 "nbformat_minor": 2
}
